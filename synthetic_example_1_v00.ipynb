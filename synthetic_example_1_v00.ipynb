{
  "nbformat": 4,
  "nbformat_minor": 0,
  "metadata": {
    "kernelspec": {
      "display_name": "Python 3",
      "language": "python",
      "name": "python3"
    },
    "language_info": {
      "codemirror_mode": {
        "name": "ipython",
        "version": 3
      },
      "file_extension": ".py",
      "mimetype": "text/x-python",
      "name": "python",
      "nbconvert_exporter": "python",
      "pygments_lexer": "ipython3",
      "version": "3.8.5"
    },
    "colab": {
      "name": "synthetic_example_1_v00.ipynb",
      "provenance": [],
      "toc_visible": true,
      "include_colab_link": true
    }
  },
  "cells": [
    {
      "cell_type": "markdown",
      "metadata": {
        "id": "view-in-github",
        "colab_type": "text"
      },
      "source": [
        "<a href=\"https://colab.research.google.com/github/dghernandez/decomotor/blob/master/synthetic_example_1_v00.ipynb\" target=\"_parent\"><img src=\"https://colab.research.google.com/assets/colab-badge.svg\" alt=\"Open In Colab\"/></a>"
      ]
    },
    {
      "cell_type": "markdown",
      "metadata": {
        "id": "GN885lexTLig"
      },
      "source": [
        "# Example 1: a single interacting pattern / word"
      ]
    },
    {
      "cell_type": "markdown",
      "metadata": {
        "id": "mnOnyGo6TLin"
      },
      "source": [
        "## First, let's import the necessary modules (including uBIAmodule)"
      ]
    },
    {
      "cell_type": "code",
      "metadata": {
        "id": "Zfa-IUlYTLip"
      },
      "source": [
        "from itertools import product, combinations\n",
        "import numpy as np\n",
        "import math\n",
        "import operator\n",
        "from matplotlib import pyplot as plt\n",
        "import functools\n",
        "def nCr(n,r):\n",
        "    f = math.factorial\n",
        "    return f(n) / f(r) / f(n-r)\n",
        "def list_powerset(lst):\n",
        "    return functools.reduce(lambda result, x: result + [subset + [x] for subset in result], lst, [[]])\n",
        "from collections import Counter\n",
        "import time\n",
        "from sklearn.utils import shuffle # a bit slow here\n",
        "import uBIAmodule#you need to upload this module to the working folder"
      ],
      "execution_count": null,
      "outputs": []
    },
    {
      "cell_type": "markdown",
      "metadata": {
        "id": "mlxaV6fMTLir"
      },
      "source": [
        "# Defining parameters of underlying probability distribution\n",
        "Data is generated from log-linear model:\n",
        "$$\\log p(x|\\theta) = \\sum_i^N \\theta_i x_i + \\sum_{ij}^N \\theta_{ij} x_i x_j + \\sum_{ijk}^N \\theta_{ijk} x_i x_j x_k +...= \\sum_{\\nu} \\theta_{\\nu} \\prod_{i\\in V_{\\nu}} x_i -\\log \\mathcal{Z}\\\\$$\n",
        "$$\\theta_i \\sim \\mathcal{N}(\\mu_1, \\sigma_1^2),\\, \\theta_{i_1... i_r} \\sim \\mathcal{N}(\\mu_J, \\sigma_J^2)$$"
      ]
    },
    {
      "cell_type": "code",
      "metadata": {
        "colab": {
          "base_uri": "https://localhost:8080/"
        },
        "id": "qE1F2aH8TLis",
        "outputId": "8321daf7-ae0a-43e3-c265-cf29a1687325"
      },
      "source": [
        "mu1=-0.7 #for matching firing rate\n",
        "p1i=np.exp(mu1)/(1.+np.exp(mu1))\n",
        "sig1=0.1\n",
        "muJ=1.0#0.5\n",
        "sigJ=0.2#0.1\n",
        "\n",
        "#type0: a single J \n",
        "#type1: one gauss at 0 \n",
        "#type2: two gauss for Js at +/- muJ (test this with larger sigJ)\n",
        "#type3: one gauss at +muJ (test this with -muJ)\n",
        "distJ_type=0#2\n",
        "\n",
        "#dimension of data\n",
        "T=18\n",
        "\n",
        "#density of interactions per dimension (each variable participates in ~ alfa int)\n",
        "alfa=2. \n",
        "#number of interactions of 2nd, 3rd and 4th order (total 3*Nj)\n",
        "Nj=int(round(alfa*T/9.))\n",
        "print(3*Nj)\n",
        "#number of steps to do path integral for magnetization\n",
        "n_e=20 \n",
        "#number of shufflings for significance test\n",
        "#nmix=100\n",
        "nmix=10\n",
        "#number of pattern in full Ising model, after filtering by field\n",
        "Nmax=1000\n",
        "#number of samples for inference\n",
        "M=800\n",
        "\n",
        "np.random.seed(0)"
      ],
      "execution_count": null,
      "outputs": [
        {
          "output_type": "stream",
          "text": [
            "12\n"
          ],
          "name": "stdout"
        }
      ]
    },
    {
      "cell_type": "code",
      "metadata": {
        "colab": {
          "base_uri": "https://localhost:8080/"
        },
        "id": "zf41CxbyTLiv",
        "outputId": "09964908-c3bc-42fc-ed7b-76100b6a2e72"
      },
      "source": [
        "print(len(list(product(range(2), repeat=T))))\n",
        "\n",
        "dep2=list(combinations(range(T),2))\n",
        "dep3=list(combinations(range(T),3))\n",
        "dep4=list(combinations(range(T),4))\n",
        "J2=[dep2[i] for i in np.random.choice(range(int(nCr(T,2))), Nj, replace=False)]\n",
        "J3=[dep3[i] for i in np.random.choice(range(int(nCr(T,3))), Nj, replace=False)]\n",
        "J4=[dep4[i] for i in np.random.choice(range(int(nCr(T,4))), Nj, replace=False)]\n",
        "Jp=J2+J3+J4\n",
        "\n",
        "# Individual biases\n",
        "J1=np.random.normal(mu1, sig1, T)\n",
        "# Interactions values\n",
        "if distJ_type==2:\n",
        "    Jall=[np.random.normal(np.random.choice([-1,1])*muJ, sigJ) for i in range(3*Nj)]\n",
        "elif distJ_type==1:\n",
        "    Jall=[np.random.normal(0., sigJ) for i in range(3*Nj)]\n",
        "elif distJ_type==0:\n",
        "    Jp=[(2,3,6)]\n",
        "    Jall=[muJ]\n",
        "else:\n",
        "    Jall=[np.random.normal(muJ, sigJ) for i in range(3*Nj)]\n",
        "\n",
        "iteTlist=list(product(range(2), repeat=T))\n",
        "iteT=product(range(2), repeat=T)\n",
        "\n",
        "# Energies, probabilities for different patterns (~1min; too long, maybe MC sampling instead)\n",
        "Epatt=[np.dot(i,J1)+np.sum([Jall[j]*np.prod(np.array(i)[np.array(Jp[j])]) for j in range(len(Jall))]) for i in iteT]\n",
        "#Epatt=[np.dot(i,J1)+np.sum([Jall[j]*np.prod(np.array(i)[np.array(Jp[j])]) for j in range(len(Jall))]) for i in iteTlist]\n",
        "prob=[np.exp(Epatt[i]) for i in range(2**T)]\n",
        "Zpar=np.sum(prob)\n",
        "prob=[pp/Zpar for pp in prob]\n",
        "print(np.sum(prob))\n",
        "print(-1*np.dot(prob,np.log(prob)))\n",
        "\n",
        "for i in range(len(Jall)):\n",
        "    print(Jp[i],Jall[i])"
      ],
      "execution_count": null,
      "outputs": [
        {
          "output_type": "stream",
          "text": [
            "262144\n",
            "1.0\n",
            "11.535228309602633\n",
            "(2, 3, 6) 1.0\n"
          ],
          "name": "stdout"
        }
      ]
    },
    {
      "cell_type": "code",
      "metadata": {
        "colab": {
          "base_uri": "https://localhost:8080/"
        },
        "id": "pjGMeEhYTLix",
        "outputId": "22da0706-9441-4ceb-8fec-6b3ae8b79b07"
      },
      "source": [
        "print(Jp)\n",
        "print(Jall)"
      ],
      "execution_count": null,
      "outputs": [
        {
          "output_type": "stream",
          "text": [
            "[(2, 3, 6)]\n",
            "[1.0]\n"
          ],
          "name": "stdout"
        }
      ]
    },
    {
      "cell_type": "code",
      "metadata": {
        "colab": {
          "base_uri": "https://localhost:8080/"
        },
        "id": "udRWjG_0TLiz",
        "outputId": "7f01a9d2-2335-406c-d281-dab8ef7cce85"
      },
      "source": [
        "iteTlist=list(product(range(2), repeat=T))\n",
        "\n",
        "Epatt0=[np.dot(i,J1) for i in iteTlist]\n",
        "prob0=[np.exp(Epatt0[i]) for i in range(2**T)]\n",
        "Zpar0=np.sum(prob0)\n",
        "prob0=[pp/Zpar0 for pp in prob0]\n",
        "\n",
        "print(\"Maximum possible entropy:\")\n",
        "print(T*np.log(2))\n",
        "print(\"\\nEntropy with biases:\")\n",
        "print(-1*np.dot(prob0,np.log(prob0)))\n",
        "print(\"\\nEntropy with biases+interactions:\")\n",
        "print(-1*np.dot(prob,np.log(prob)))"
      ],
      "execution_count": null,
      "outputs": [
        {
          "output_type": "stream",
          "text": [
            "Maximum possible entropy:\n",
            "12.476649250079015\n",
            "\n",
            "Entropy with biases:\n",
            "11.495464224441246\n",
            "\n",
            "Entropy with biases+interactions:\n",
            "11.535228309602633\n"
          ],
          "name": "stdout"
        }
      ]
    },
    {
      "cell_type": "markdown",
      "metadata": {
        "id": "vV3DbkaSTLi0"
      },
      "source": [
        "# Infering codewords from finite samples using uBIA"
      ]
    },
    {
      "cell_type": "code",
      "metadata": {
        "colab": {
          "base_uri": "https://localhost:8080/"
        },
        "id": "emFR6_pjTLi0",
        "outputId": "f36ec6ff-0396-4f45-f02b-aa9981d30c68"
      },
      "source": [
        "# generating samples from that probability distribution\n",
        "draw = np.random.choice(range(2**T),M, p=prob)\n",
        "patt=list(product(range(2), repeat=T))\n",
        "samples=[patt[i] for i in draw]\n",
        "#samples0=[patt[i] for i in draw]\n",
        "#samples_ind=np.random.choice((0,1),(M,Tind),p=[1.-p1i,p1i])\n",
        "#samples=np.hstack((samples0,samples_ind))\n",
        "print(samples[:4])"
      ],
      "execution_count": null,
      "outputs": [
        {
          "output_type": "stream",
          "text": [
            "[(0, 1, 0, 1, 0, 1, 1, 0, 0, 1, 1, 0, 1, 0, 0, 0, 0, 1), (1, 0, 1, 1, 1, 1, 1, 0, 0, 1, 1, 1, 0, 1, 1, 0, 1, 1), (1, 0, 1, 1, 0, 0, 1, 1, 1, 0, 0, 1, 0, 0, 1, 0, 1, 1), (0, 0, 0, 0, 0, 0, 0, 0, 0, 0, 1, 0, 0, 0, 0, 0, 1, 0)]\n"
          ],
          "name": "stdout"
        }
      ]
    },
    {
      "cell_type": "code",
      "metadata": {
        "colab": {
          "base_uri": "https://localhost:8080/"
        },
        "id": "N9DRIWvNTLi2",
        "outputId": "084330dd-d570-4cc5-cfd9-674b8608c9f0"
      },
      "source": [
        "hcutoff=0.05\n",
        "\n",
        "M=len(samples) #number of samples\n",
        "pi=np.sum(samples,axis=0)\n",
        "pi=[1.*i/M for i in pi] #empirical individual probabilities\n",
        "\n",
        "start_time = time.time()\n",
        "\n",
        "dicset=uBIAmodule.extract_patt(samples)\n",
        "print(len(dicset))\n",
        "\n",
        "sorted_patt=uBIAmodule.magn_field(dicset,M,pi)\n",
        "h0=[sorted_patt[i][1][0] for i in range(Nmax)]\n",
        "print(len(sorted_patt))\n",
        "\n",
        "Jvw=uBIAmodule.couplings(sorted_patt, M, pi, Nmax)\n",
        "\n",
        "results=uBIAmodule.marg_magn_h1ef(h0, Jvw, M)\n",
        "mi=results[0]\n",
        "h1ef=results[1]\n",
        "\n",
        "neopt=uBIAmodule.level_inverse_reg(h0,h1ef,n_e,0.5)\n",
        "print(neopt)\n",
        "\n",
        "mm_sorted_patt=uBIAmodule.marg_magn_sorted(sorted_patt,mi,neopt)\n",
        "\n",
        "print(\"\\n Interactions:\")\n",
        "for i in range(len(Jall)):\n",
        "    print(Jp[i],Jall[i])\n",
        "\n",
        "print(\"\\n Sorted by marginal magnetization at e* (c=0.5):\")\n",
        "for pp in mm_sorted_patt[:12]:\n",
        "    print(pp)\n",
        "\n",
        "print(\"\\n Sorted by field:\")\n",
        "for pp in sorted_patt[:12]:\n",
        "    print(pp)\n",
        "    \n",
        "mm_sorted_patt20=uBIAmodule.marg_magn_sorted(sorted_patt,mi,5)#n_e\n",
        "print(\"\\n Sorted by marginal magnetization at 5:\")\n",
        "for pp in mm_sorted_patt20[:12]:\n",
        "    print(pp)\n",
        "\n",
        "print(\"\\n--- %s seconds ---\" % (time.time() - start_time))#with T=18 ->16s"
      ],
      "execution_count": null,
      "outputs": [
        {
          "output_type": "stream",
          "text": [
            "113220\n",
            "1000\n",
            "10\n",
            "\n",
            " Interactions:\n",
            "(2, 3, 6) 1.0\n",
            "\n",
            " Sorted by marginal magnetization at e* (c=0.5):\n",
            "((2, 3, 6), [0.08559511801415481, 261.0716787812499, 89, 55.89000000000001])\n",
            "((2, 3, 4, 6), [0.04559876042271131, 118.69968824342189, 41, 18.793012500000003])\n",
            "((13, 17), [0.04143808606768618, 89.67496778125005, 107, 86.13])\n",
            "((2, 4, 6), [0.03620375257138691, 128.28274906445307, 70, 46.4025])\n",
            "((2, 3, 5, 6), [0.03360021547365127, 87.6392069934219, 38, 18.793012500000003])\n",
            "((3, 12, 15), [0.032504261569042014, 41.847173802405294, 24, 38.27705625])\n",
            "((15, 17), [0.03081855248452573, 39.73529451220698, 73, 88.41375])\n",
            "((4, 8), [0.027194035466287594, 25.867901892578118, 72, 85.4075])\n",
            "((1, 2, 3, 6), [0.024922504514575686, 68.20169310761524, 36, 18.932737500000005])\n",
            "((2, 3, 6, 16), [0.02419127830408279, 71.29633483413456, 36, 18.583425000000002])\n",
            "((4, 12, 13), [0.022085294376844068, 49.12127386101998, 46, 30.9585375])\n",
            "((0, 2, 5, 6), [0.02104698620579492, 49.73429239246283, 30, 15.370828125000003])\n",
            "\n",
            " Sorted by field:\n",
            "((2, 3, 6), [261.0716787812499, 89, 55.89000000000001])\n",
            "((2, 6), [153.70125, 165, 138.0])\n",
            "((2, 4, 6), [128.28274906445307, 70, 46.4025])\n",
            "((2, 3, 4, 6), [118.69968824342189, 41, 18.793012500000003])\n",
            "((13, 17), [89.67496778125005, 107, 86.13])\n",
            "((2, 3, 5, 6), [87.6392069934219, 38, 18.793012500000003])\n",
            "((3, 4, 6), [84.00247165124998, 63, 43.578])\n",
            "((2, 3), [73.93861738281227, 160, 139.72500000000002])\n",
            "((2, 3, 6, 16), [71.29633483413456, 36, 18.583425000000002])\n",
            "((3, 6, 16), [69.98140364499989, 61, 43.09200000000001])\n",
            "((1, 2, 3, 6), [68.20169310761524, 36, 18.932737500000005])\n",
            "((2, 5, 6), [66.4902490644531, 64, 46.4025])\n",
            "\n",
            " Sorted by marginal magnetization at 5:\n",
            "((2, 3, 6), [0.062166839599937185, 261.0716787812499, 89, 55.89000000000001])\n",
            "((2, 3, 4, 6), [0.02995217250704675, 118.69968824342189, 41, 18.793012500000003])\n",
            "((2, 4, 6), [0.029096809992976078, 128.28274906445307, 70, 46.4025])\n",
            "((2, 6), [0.027572905133223077, 153.70125, 165, 138.0])\n",
            "((13, 17), [0.024374899879049543, 89.67496778125005, 107, 86.13])\n",
            "((2, 3, 5, 6), [0.02209868881918965, 87.6392069934219, 38, 18.793012500000003])\n",
            "((3, 4, 6), [0.018301214549612907, 84.00247165124998, 63, 43.578])\n",
            "((2, 3, 6, 16), [0.01719203879366658, 71.29633483413456, 36, 18.583425000000002])\n",
            "((1, 2, 3, 6), [0.016891061589611147, 68.20169310761524, 36, 18.932737500000005])\n",
            "((3, 6, 16), [0.015034210536972804, 69.98140364499989, 61, 43.09200000000001])\n",
            "((3, 12, 15), [0.014666944500107791, 41.847173802405294, 24, 38.27705625])\n",
            "((2, 3, 6, 14), [0.014329075663615694, 60.497172083051744, 35, 18.862875000000003])\n",
            "\n",
            "--- 21.67538022994995 seconds ---\n"
          ],
          "name": "stdout"
        }
      ]
    },
    {
      "cell_type": "code",
      "metadata": {
        "colab": {
          "base_uri": "https://localhost:8080/",
          "height": 350
        },
        "id": "Bkb5X1okTLi3",
        "outputId": "3d4310c7-37d7-4a03-d6b7-c22d7d70794b"
      },
      "source": [
        "data=Jvw.flatten()\n",
        "print(max(data))\n",
        "print(min(data))\n",
        "print(np.count_nonzero(data))\n",
        "\n",
        "\n",
        "bins = np.linspace(math.ceil(min(data)), \n",
        "                   math.floor(max(data)),\n",
        "                   100)\n",
        "#plt.yscale('log', nonpositive='clip')\n",
        "plt.yscale('log')\n",
        "plt.xlim([min(data)-5, max(data)+5])\n",
        "plt.hist(data, bins=bins, alpha=0.5)\n",
        "plt.title('Distribution of interaction values Jvw')\n",
        "plt.xlabel('Jvw')\n",
        "plt.ylabel('count')\n",
        "\n",
        "plt.show()"
      ],
      "execution_count": null,
      "outputs": [
        {
          "output_type": "stream",
          "text": [
            "815.5666638200722\n",
            "-5034.464042059335\n",
            "806814\n"
          ],
          "name": "stdout"
        },
        {
          "output_type": "display_data",
          "data": {
            "image/png": "[encoded data removed]",
            "text/plain": [
              "<Figure size 432x288 with 1 Axes>"
            ]
          },
          "metadata": {
            "tags": [],
            "needs_background": "light"
          }
        }
      ]
    },
    {
      "cell_type": "code",
      "metadata": {
        "colab": {
          "base_uri": "https://localhost:8080/"
        },
        "id": "Pvjt2ixLTLi3",
        "outputId": "7a3eb9ae-0fc7-498b-8eb3-59fa46f0da50"
      },
      "source": [
        "indexJneg=np.argwhere(Jvw<-2500)\n",
        "print(indexJneg)\n",
        "for pp in sorted_patt[:8]:\n",
        "    print(pp)\n",
        "\n",
        "print(Jvw[0][1])#(2, 3, 6) and (2, 6)\n",
        "print(Jvw[0][7])#(2, 3, 6) and (2, 3)\n",
        "print(Jvw[0][3])#(2, 3, 6) and (2, 3, 4, 6)"
      ],
      "execution_count": null,
      "outputs": [
        {
          "output_type": "stream",
          "text": [
            "[[ 0  1]\n",
            " [ 0  7]\n",
            " [ 0 20]\n",
            " [ 1  0]\n",
            " [ 1  2]\n",
            " [ 2  1]\n",
            " [ 7  0]\n",
            " [20  0]]\n",
            "((2, 3, 6), [261.0716787812499, 89, 55.89000000000001])\n",
            "((2, 6), [153.70125, 165, 138.0])\n",
            "((2, 4, 6), [128.28274906445307, 70, 46.4025])\n",
            "((2, 3, 4, 6), [118.69968824342189, 41, 18.793012500000003])\n",
            "((13, 17), [89.67496778125005, 107, 86.13])\n",
            "((2, 3, 5, 6), [87.6392069934219, 38, 18.793012500000003])\n",
            "((3, 4, 6), [84.00247165124998, 63, 43.578])\n",
            "((2, 3), [73.93861738281227, 160, 139.72500000000002])\n",
            "-5034.464042059335\n",
            "-3737.7951661254237\n",
            "-1587.4830692835505\n"
          ],
          "name": "stdout"
        }
      ]
    },
    {
      "cell_type": "markdown",
      "metadata": {
        "id": "tf4lQ1QyTLi4"
      },
      "source": [
        "# Plot path integral for true patterns"
      ]
    },
    {
      "cell_type": "code",
      "metadata": {
        "colab": {
          "base_uri": "https://localhost:8080/"
        },
        "id": "YgrUZnoWTLi4",
        "outputId": "7f96673d-02f7-4143-c360-ec705db776a3"
      },
      "source": [
        "def find_indices(lst, condition):\n",
        "    return [i for i, elem in enumerate(lst) if condition(elem)]\n",
        "\n",
        "indtrue=[]\n",
        "\n",
        "for jp in Jp:\n",
        "    ind=find_indices(sorted_patt, lambda e: e[0]== jp)\n",
        "    print(ind)\n",
        "    if ind!=[]:\n",
        "        indtrue.append(ind[0])\n",
        "#        plt.plot(mi[ind[0]])#,'bs')\n",
        "\n",
        "#plt.show()\n",
        "print(indtrue)"
      ],
      "execution_count": null,
      "outputs": [
        {
          "output_type": "stream",
          "text": [
            "[0]\n",
            "[0]\n"
          ],
          "name": "stdout"
        }
      ]
    },
    {
      "cell_type": "code",
      "metadata": {
        "colab": {
          "base_uri": "https://localhost:8080/",
          "height": 265
        },
        "id": "15chYayhTLi5",
        "outputId": "bd1b93c5-6229-4971-a7c3-0c614efd9591"
      },
      "source": [
        "for j in range(len(mi)):\n",
        "    if j in indtrue:\n",
        "        plt.plot(mi[j],'red',alpha=0.8)\n",
        "    else:\n",
        "        plt.plot(mi[j],'gray',alpha=0.3)\n",
        "\n",
        "plt.show()"
      ],
      "execution_count": null,
      "outputs": [
        {
          "output_type": "display_data",
          "data": {
            "image/png": "[encoded data removed]",
            "text/plain": [
              "<Figure size 432x288 with 1 Axes>"
            ]
          },
          "metadata": {
            "tags": [],
            "needs_background": "light"
          }
        }
      ]
    },
    {
      "cell_type": "code",
      "metadata": {
        "id": "z39Kgjb_TLi6"
      },
      "source": [
        "#mc[x_,m1_:Exp[-2.67]]:=m1 x^(-0.23)Exp[-0.015 (Log[x]^2)];#see mlevel_nf.nb\n",
        "#nf=Table[0.005 Sqrt[2]^(i-1),{i,27}];\n",
        "\n",
        "#mc[n_false=0.3, m1= magnetization 1st]= 1.290 m1"
      ],
      "execution_count": null,
      "outputs": []
    },
    {
      "cell_type": "markdown",
      "metadata": {
        "id": "I2M5ReudTLi6"
      },
      "source": [
        "# Significance level?\n",
        "mc[x_,m1_]:=m1 x^(-0.23)Exp[-0.015 (Log[x]^2)]\n",
        "\n",
        "mc[n_false, m1= magnetization 1st]= m1 f(nf) (see sacaling between magn and n_false in mlevel_nf.nb)\n",
        "\n",
        "mc[0.3,1]=1.29\n",
        "\n",
        "mc[0.1,1]=1.57"
      ]
    },
    {
      "cell_type": "code",
      "metadata": {
        "colab": {
          "base_uri": "https://localhost:8080/"
        },
        "id": "aOc347rJTLi7",
        "outputId": "e7dffec3-2115-4453-c56f-34fe1e96b695"
      },
      "source": [
        "start_time = time.time()\n",
        "\n",
        "mcx=np.zeros((10,n_e+1)) #ten largest values of marg. magnetizations for codewords in shuffled data (for each level of ee)\n",
        "mclowx=np.zeros((10,n_e+1))\n",
        "\n",
        "for nn in range(nmix):#nmix\n",
        "\n",
        "    #shuffling columns of data (keeping the firing rate fixed)\n",
        "    tsam=np.transpose(samples)\n",
        "    tsam_shuf=[shuffle(ti) for ti in tsam]\n",
        "    sam_shuf=np.transpose(tsam_shuf)\n",
        "\n",
        "    dicset_s=uBIAmodule.extract_patt(sam_shuf)\n",
        "    #print(len(dicset_s))\n",
        "\n",
        "    sorted_patt_s=uBIAmodule.magn_field(dicset_s,M,pi)\n",
        "    Nmax_s=min(Nmax,len(sorted_patt_s))\n",
        "    h0_s=[sorted_patt_s[i][1][0] for i in range(Nmax)]\n",
        "    #print(len(sorted_patt_s))\n",
        "\n",
        "    Jvw_s=uBIAmodule.couplings(sorted_patt_s, M, pi,Nmax_s)\n",
        "\n",
        "    results_s=uBIAmodule.marg_magn_h1ef(h0_s, Jvw_s, M)\n",
        "    mi_s=results_s[0]\n",
        "    h1ef_s=results_s[1]\n",
        "    \n",
        "    for kk in range(n_e+1):\n",
        "        #how strong can the marginal magnetizetion be for every level of \\epsilon?\n",
        "        mcx[:,kk]+=sorted(mi_s[:,kk],reverse=True)[:10]\n",
        "        mclowx[:,kk]+=sorted(mi_s[:,kk])[:10]\n",
        "    \n",
        "    print(nn,\"--- %.2f seconds ---\" % (time.time() - start_time))\n",
        "\n",
        "mcx=(1./nmix)*mcx\n",
        "mclowx=(1./nmix)*mclowx\n",
        "\n",
        "print(mcx[0])\n",
        "print(mclowx[0])"
      ],
      "execution_count": null,
      "outputs": [
        {
          "output_type": "stream",
          "text": [
            "0 --- 20.06 seconds ---\n",
            "1 --- 39.34 seconds ---\n",
            "2 --- 58.01 seconds ---\n",
            "3 --- 76.98 seconds ---\n",
            "4 --- 96.12 seconds ---\n",
            "5 --- 116.79 seconds ---\n",
            "6 --- 136.02 seconds ---\n",
            "7 --- 154.68 seconds ---\n",
            "8 --- 174.71 seconds ---\n",
            "9 --- 194.19 seconds ---\n",
            "[0.         0.00406575 0.00802    0.01186247 0.01559302 0.01925899\n",
            " 0.02283168 0.02631094 0.02969668 0.03298879 0.03618721 0.0393035\n",
            " 0.04246743 0.04559368 0.04866625 0.05169013 0.05484897 0.05801484\n",
            " 0.06114851 0.06424969 0.06737544]\n",
            "[ 0.00000000e+00  1.61684595e-04  2.52477666e-04  2.64648399e-04\n",
            "  1.96034041e-04  3.42319873e-05 -2.78821575e-04 -7.10798927e-04\n",
            " -1.26157082e-03 -1.94822421e-03 -2.81097509e-03 -3.80279473e-03\n",
            " -4.92352868e-03 -6.21134081e-03 -7.64630651e-03 -9.24763919e-03\n",
            " -1.09886590e-02 -1.28690104e-02 -1.48882939e-02 -1.70876690e-02\n",
            " -1.95585654e-02]\n"
          ],
          "name": "stdout"
        }
      ]
    },
    {
      "cell_type": "code",
      "metadata": {
        "colab": {
          "base_uri": "https://localhost:8080/",
          "height": 265
        },
        "id": "09bWfH2OTLi7",
        "outputId": "a90b65dd-d868-4530-db6e-3f9451cae4b1"
      },
      "source": [
        "for j in range(len(mi)):\n",
        "    if j in indtrue:\n",
        "        plt.plot(mi[j],'red',alpha=0.8)\n",
        "    else:\n",
        "        plt.plot(mi[j],'gray',alpha=0.3)\n",
        "\n",
        "plt.plot(1.29*mcx[0],'b--',alpha=0.5)\n",
        "#plt.plot(1.57*mcx[0],'b--',alpha=0.5)\n",
        "#plt.plot(mclowx[0],'c--',alpha=0.5)\n",
        "plt.axvline(x=neopt, color='k')#, linestyle='--'\n",
        "\n",
        "plt.show()"
      ],
      "execution_count": null,
      "outputs": [
        {
          "output_type": "display_data",
          "data": {
            "image/png": "[encoded data removed]",
            "text/plain": [
              "<Figure size 432x288 with 1 Axes>"
            ]
          },
          "metadata": {
            "tags": [],
            "needs_background": "light"
          }
        }
      ]
    },
    {
      "cell_type": "code",
      "metadata": {
        "id": "UA5BEyFaTLi8"
      },
      "source": [
        ""
      ],
      "execution_count": null,
      "outputs": []
    }
  ]
}