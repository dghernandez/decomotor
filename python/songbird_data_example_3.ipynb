{
 "cells": [
  {
   "cell_type": "markdown",
   "metadata": {},
   "source": [
    "## Example: codewords in the premotor neuronal activity in songbirds in relation to pitch \n",
    "\n",
    "In this notebook, we analyze the premotor activity (RA, two synapses away from vocal muscles) of single neurons in Bengalese finches in relation to the pitch of individual vocal gestures (syllables). The activity in discretized in 2ms bins, and binarized (spike=1, no-spike=0). \n",
    "\n",
    "- First we binarized the behavior as $x_0=1$ if pitch is above the median, and look for codewords that include the behavior and overoccur, using uBIA.\n",
    "- Strong interactions may induce that its superwords (words that include such interaction) are detected incorrectly as codewords. As an exercise, we will binarized the behavior as $x_0=1$ if pitch is below the median and run uBIA again. Next, we will check whether there are coincidences between the list of codewords that overoccur with low pitch and the list of codewords that overoccur with high pitch. If there are, these coincidences should be discarted, as they are only detected due to strong spike-spike interactions.\n",
    "\n",
    "Make sure uBIAmodule.py is located in your working folder before importing."
   ]
  },
  {
   "cell_type": "code",
   "execution_count": 2,
   "metadata": {},
   "outputs": [],
   "source": [
    "from itertools import product, combinations\n",
    "import numpy as np\n",
    "import math\n",
    "import operator\n",
    "from matplotlib import pyplot as plt\n",
    "import functools\n",
    "def nCr(n,r):\n",
    "    f = math.factorial\n",
    "    return f(n) / f(r) / f(n-r)\n",
    "def list_powerset(lst):\n",
    "    return functools.reduce(lambda result, x: result + [subset + [x] for subset in result], lst, [[]])\n",
    "from collections import Counter\n",
    "import time\n",
    "from sklearn.utils import shuffle\n",
    "from heapq import nsmallest\n",
    "import scipy.io\n",
    "import statistics\n",
    "from matplotlib import colors\n",
    "\n",
    "#--------------------\n",
    "import uBIAmodule"
   ]
  },
  {
   "cell_type": "markdown",
   "metadata": {},
   "source": [
    "### Loading data\n",
    "Make sure that these files are located in your working folder."
   ]
  },
  {
   "cell_type": "code",
   "execution_count": 3,
   "metadata": {},
   "outputs": [
    {
     "name": "stdout",
     "output_type": "stream",
     "text": [
      "498\n",
      "498\n",
      "20\n"
     ]
    }
   ],
   "source": [
    "data1 = scipy.io.loadmat('songbird_data1_pitch.mat')\n",
    "data2 = scipy.io.loadmat('songbird_data1_premotor.mat')\n",
    "\n",
    "pitch_data=data1['Expression1']\n",
    "print(len(pitch_data))\n",
    "median_p=statistics.median(pitch_data)\n",
    "pitch_binary=np.where(pitch_data>median_p,1,0)\n",
    "#print(pitch_binary)\n",
    "\n",
    "spikes_data=data2['Expression1']\n",
    "print(len(spikes_data))\n",
    "print(len(spikes_data[0]))\n",
    "M=len(pitch_data)\n",
    "\n",
    "# \"samples\" has in its first component (index=0) the binarized behavior (pitch>median), \n",
    "# and then spike/no spike in 2ms bins (40ms window previous to behavior)\n",
    "samples=np.hstack((pitch_binary,spikes_data))"
   ]
  },
  {
   "cell_type": "code",
   "execution_count": 4,
   "metadata": {},
   "outputs": [
    {
     "data": {
      "image/png": "[encoded data removed]",
      "text/plain": [
       "<Figure size 432x288 with 1 Axes>"
      ]
     },
     "metadata": {
      "needs_background": "light"
     },
     "output_type": "display_data"
    }
   ],
   "source": [
    "plt.hist(pitch_data, bins = 30)#math.floor(np.sqrt(M))\n",
    "plt.title('Distribution of pitch values')\n",
    "plt.xlabel('Pitch [Hz]')\n",
    "plt.ylabel('count')\n",
    "\n",
    "plt.show()"
   ]
  },
  {
   "cell_type": "markdown",
   "metadata": {},
   "source": [
    "# Defining parameters of underlying probability distribution\n",
    "Log-linear model for underlying interactions:\n",
    "$$\\log p(x|\\theta) = \\sum_i^N \\theta_i x_i + \\sum_{ij}^N \\theta_{ij} x_i x_j + \\sum_{ijk}^N \\theta_{ijk} x_i x_j x_k +...= \\sum_{\\nu} \\theta_{\\nu} \\prod_{i\\in V_{\\nu}} x_i -\\log \\mathcal{Z}$$"
   ]
  },
  {
   "cell_type": "code",
   "execution_count": 5,
   "metadata": {},
   "outputs": [],
   "source": [
    "\n",
    "#dimension of data\n",
    "T=len(samples[0])#21\n",
    "#number of steps to do path integral for magnetization\n",
    "n_e=20 \n",
    "#number of shufflings for significance test\n",
    "nmix=10\n",
    "#number of pattern in full Ising model, after filtering by field\n",
    "Nmax=1000\n",
    "#number of samples for inference\n",
    "#M=len(samples)\n"
   ]
  },
  {
   "cell_type": "markdown",
   "metadata": {},
   "source": [
    "# Infering codewords from finite samples using uBIA\n",
    "As a first step we list all the patterns that occur in the samples (if $T$ is large, we need to be careful with this step).\n",
    "\n",
    "Secondly, we include in this list patterns which do not occur but could be a relevant pattern.\n",
    "\n",
    "Next, we calculate \"the fields\" of each pattern, checking how such patterns over or under occur in relation to our expectation (no interaction). The field gives the individual evidence that a pattern should be considered as a codeword. Here we select the Nmax patterns with higher fields.\n",
    "\n",
    "Because overlapping patterns or codewords try to explain the same correlations, we need a type of competition between them to determine which are the true patterns and which are by-products of the others. This competition is implemented through couplings $J_{\\mu\\nu}$.\n",
    "\n",
    "A key parameter of uBIA is epsilon, the inverse regularization. Epsilon regulates how far we move away from our \"no-interaction null model\". Epsilon can not be too large as some of the approximation of the method are not longer valid, but if it is too small we do not allow the correlations in the samples to matter.\n",
    "\n",
    "Finally, we present a list of words ordered by their marginal magnetizations, a quantity directly proportional to their probability of being a codeword. These results are presented as:\n",
    "\n",
    "(word, marginal magnetization, individual field, frequency in samples, expected frecuency from null model)\n",
    "\n",
    "The list ordered by marginal magnetization is presented at the largest epsilon allowed by our approximations, but you can checked how the list changes at other levels ($ne_{test} \\in\\{1,2,..,20\\}$)."
   ]
  },
  {
   "cell_type": "code",
   "execution_count": 7,
   "metadata": {},
   "outputs": [
    {
     "name": "stdout",
     "output_type": "stream",
     "text": [
      "[[1 0 0 0 1 0 0 0 0 0 1 0 0 1 0 1 1 0 1 0 0]\n",
      " [1 0 0 0 0 0 0 0 0 0 0 1 0 0 1 0 1 0 0 1 0]\n",
      " [1 0 0 0 0 0 0 0 0 0 1 0 0 1 0 1 1 0 0 0 1]\n",
      " [1 0 0 0 0 0 0 0 0 0 0 0 0 1 0 1 0 1 0 1 0]\n",
      " [1 0 0 0 0 0 0 0 0 0 0 0 1 0 0 1 0 1 0 0 0]\n",
      " [1 0 0 1 0 0 0 0 0 1 0 0 0 0 1 0 1 0 0 1 0]\n",
      " [0 0 0 0 0 0 0 0 0 0 0 0 0 0 1 0 0 0 1 0 0]\n",
      " [0 0 0 0 0 0 0 0 0 0 0 0 1 0 0 1 0 0 1 0 0]\n",
      " [1 0 0 0 0 0 1 0 0 0 0 1 0 0 1 0 1 0 0 1 0]\n",
      " [0 0 0 0 0 0 0 0 0 0 0 1 0 0 1 0 0 1 0 0 0]]\n"
     ]
    }
   ],
   "source": [
    "print(samples[:10])"
   ]
  },
  {
   "cell_type": "code",
   "execution_count": 10,
   "metadata": {},
   "outputs": [
    {
     "name": "stdout",
     "output_type": "stream",
     "text": [
      "Number of candidate words:  34156\n",
      "1000\n",
      "Largest epsilon allowed by our approximations: 20 *1/(20M)\n",
      "\n",
      " Sorted by marginal magnetization at e* (c=0.5):\n",
      "((13, 14), [0.6258110242463125, 459.56160270345424, 41, 84.6867469879518])\n",
      "((12, 13), [0.600168798202174, 431.3562006044207, 36, 78.32530120481927])\n",
      "((17, 18), [0.5085644638766619, 374.3053376956804, 9, 48.25301204819277])\n",
      "((11, 12), [0.5023002113067739, 333.8829462460412, 26, 63.29317269076305])\n",
      "((14, 15), [0.49265989586408715, 350.30968073192753, 37, 75.27710843373494])\n",
      "\n",
      " Codewords that overoccur with behavior, sorted by marginal magnetization at e* (c=0.5):\n",
      "((0, 9, 13), [0.16420223222434543, 95.083087594244, 36, 16.102409638554217])\n",
      "((0, 10, 13), [0.14417581411874605, 71.0012307904867, 43, 25.445783132530117])\n",
      "((0, 15, 18), [0.12298208884636364, 51.66139095502345, 39, 23.85542168674699])\n",
      "((0, 11, 14), [0.10789005351309527, 46.66878298503931, 49, 34.21686746987952])\n",
      "((0, 12, 18), [0.10736561026267775, 44.79205227700613, 41, 26.701807228915662])\n",
      "((0, 12, 14), [0.09450319768007628, 38.45619990394883, 56, 42.12951807228915])\n",
      "((0, 9, 13, 17), [0.079534217704374, 42.432088514161656, 19, 5.755479750326607])\n",
      "((0, 16, 19), [0.07931108555435255, 32.41134315167478, 34, 21.734939759036145])\n",
      "((0, 15), [0.07837741733949007, 24.13755020080321, 101, 88.0])\n",
      "((0, 18), [0.07670428589095074, 24.474774096385545, 80, 67.5])\n",
      "\n",
      "--- 25.320707082748413 seconds ---\n"
     ]
    }
   ],
   "source": [
    "hcutoff=0.05\n",
    "\n",
    "M=len(samples) #number of samples\n",
    "pi=np.sum(samples,axis=0)\n",
    "pi=[1.*i/M for i in pi] #empirical individual probabilities\n",
    "\n",
    "start_time = time.time()\n",
    "\n",
    "dicset=uBIAmodule.extract_patt(samples)\n",
    "print(\"Number of candidate words: \",len(dicset))\n",
    "\n",
    "sorted_patt=uBIAmodule.magn_field(dicset,M,pi)\n",
    "Nmax1=min(Nmax,len(sorted_patt))\n",
    "print(len(sorted_patt))\n",
    "\n",
    "h0=[sorted_patt[i][1][0] for i in range(Nmax1)]\n",
    "\n",
    "Jvw=uBIAmodule.couplings(sorted_patt, M, pi, Nmax1)\n",
    "\n",
    "results=uBIAmodule.marg_magn_h1ef(h0, Jvw, M)\n",
    "mi=results[0]\n",
    "h1ef=results[1]\n",
    "\n",
    "neopt=uBIAmodule.level_inverse_reg(h0,h1ef,n_e,0.5)\n",
    "print(\"Largest epsilon allowed by our approximations:\",neopt,\"*1/(20M)\")\n",
    "\n",
    "mm_sorted_patt=uBIAmodule.marg_magn_sorted(sorted_patt,mi,neopt)\n",
    "\n",
    "#codewords that include the behavior\n",
    "codewords=uBIAmodule.select_codewords(sorted_patt,mi,neopt) \n",
    "\n",
    "#codewords that include the behavior and overoccur\n",
    "codewords_over=uBIAmodule.select_codewords_overoccur(sorted_patt,mi,neopt)\n",
    "\n",
    "print(\"\\n Sorted by marginal magnetization at e* (c=0.5):\")\n",
    "for pp in mm_sorted_patt[:5]:\n",
    "    print(pp)\n",
    "\n",
    "#print(\"\\n Codewords that include the behavior, sorted by marginal magnetization at e* (c=0.5):\")\n",
    "#for pp in codewords[:min(5,len(codewords))]:\n",
    "#    print(pp)  \n",
    "    \n",
    "print(\"\\n Codewords that overoccur with behavior, sorted by marginal magnetization at e* (c=0.5):\")\n",
    "for pp in codewords_over[:min(10,len(codewords))]:\n",
    "    print(pp)\n",
    "    \n",
    "\n",
    "print(\"\\n--- %s seconds ---\" % (time.time() - start_time))"
   ]
  },
  {
   "cell_type": "code",
   "execution_count": 80,
   "metadata": {},
   "outputs": [],
   "source": [
    "#mc[x_,m1_:Exp[-2.67]]:=m1 x^(-0.23)Exp[-0.015 (Log[x]^2)];#see mlevel_nf.nb\n",
    "#nf=Table[0.005 Sqrt[2]^(i-1),{i,27}];\n",
    "\n",
    "#mc[n_false=0.3, m1= magnetization 1st]= 1.290 m1"
   ]
  },
  {
   "cell_type": "markdown",
   "metadata": {},
   "source": [
    "# Significance level\n",
    "(slowest part ~4 min)\n",
    "\n",
    "Through reshuffling of the columns of our original matrix (that is, keeping marginal probabilities but deleting interactions), we can obtain how large the marginal magnetization gets when there are no interactions. Namely, these positive values of marginal magnetizations are due to finite sampling.\n",
    "\n",
    "mc[x_,m1_]:=m1 x^(-0.23)Exp[-0.015 (Log[x]^2)]\n",
    "\n",
    "mc[n_false, m1= magnetization 1st]= m1 f(nf) (see sacaling between magn and n_false in mlevel_nf.nb)\n",
    "\n",
    "mc[0.3,1]=1.29\n",
    "\n",
    "mc[0.1,1]=1.57\n",
    "\n",
    "mc[0.03,1]=1.86"
   ]
  },
  {
   "cell_type": "code",
   "execution_count": 11,
   "metadata": {},
   "outputs": [
    {
     "name": "stdout",
     "output_type": "stream",
     "text": [
      "0 --- 25.72 seconds ---\n",
      "1 --- 50.00 seconds ---\n",
      "2 --- 73.91 seconds ---\n",
      "3 --- 98.49 seconds ---\n",
      "4 --- 124.53 seconds ---\n",
      "5 --- 149.26 seconds ---\n",
      "6 --- 174.26 seconds ---\n",
      "7 --- 200.38 seconds ---\n",
      "8 --- 225.44 seconds ---\n",
      "9 --- 251.61 seconds ---\n",
      "[0.         0.00307424 0.00608647 0.00903657 0.01192441 0.0147499\n",
      " 0.01751296 0.02021352 0.02285152 0.02542693 0.02793972 0.03038988\n",
      " 0.03279878 0.03520808 0.03757391 0.03989071 0.0421585  0.04437727\n",
      " 0.04654706 0.04866788 0.05073977]\n"
     ]
    }
   ],
   "source": [
    "start_time = time.time()\n",
    "\n",
    "mcx=np.zeros((10,n_e+1)) #ten largest values of marg. magnetizations for codewords in shuffled data (for each level of ee)\n",
    "mclowx=np.zeros((10,n_e+1))\n",
    "\n",
    "for nn in range(nmix):#nmix\n",
    "\n",
    "    #shuffling columns of data (keeping the firing rate fixed)\n",
    "    tsam=np.transpose(samples)\n",
    "    tsam_shuf=[shuffle(ti) for ti in tsam]\n",
    "    sam_shuf=np.transpose(tsam_shuf)\n",
    "\n",
    "    dicset_s=uBIAmodule.extract_patt(sam_shuf)\n",
    "    #print(len(dicset_s))\n",
    "\n",
    "    sorted_patt_s=uBIAmodule.magn_field(dicset_s,M,pi)\n",
    "    #print(len(sorted_patt_s))\n",
    "    Nmax_s=min(Nmax,len(sorted_patt_s))\n",
    "    \n",
    "    h0_s=[sorted_patt_s[i][1][0] for i in range(Nmax_s)]\n",
    "\n",
    "    Jvw_s=uBIAmodule.couplings(sorted_patt_s, M, pi, Nmax_s)\n",
    "\n",
    "    results_s=uBIAmodule.marg_magn_h1ef(h0_s, Jvw_s, M)\n",
    "    mi_s=results_s[0]\n",
    "    h1ef_s=results_s[1]\n",
    "    \n",
    "    for kk in range(n_e+1):\n",
    "        #how strong can the marginal magnetizetion be for every level of \\epsilon?\n",
    "        mcx[:,kk]+=sorted(mi_s[:,kk],reverse=True)[:10]\n",
    "        mclowx[:,kk]+=sorted(mi_s[:,kk])[:10]\n",
    "    \n",
    "    print(nn,\"--- %.2f seconds ---\" % (time.time() - start_time))\n",
    "\n",
    "mcx=(1./nmix)*mcx\n",
    "mclowx=(1./nmix)*mclowx\n",
    "\n",
    "print(mcx[0])\n",
    "#print(mclowx[0])"
   ]
  },
  {
   "cell_type": "code",
   "execution_count": 12,
   "metadata": {},
   "outputs": [
    {
     "data": {
      "image/png": "[encoded data removed]",
      "text/plain": [
       "<Figure size 432x288 with 1 Axes>"
      ]
     },
     "metadata": {
      "needs_background": "light"
     },
     "output_type": "display_data"
    }
   ],
   "source": [
    "# If we want to obtain less than one false word, we need to put our threshold above the maximum marginal magnetizetion that we get by reshuffling. The parameter mc1 controls how far above.\n",
    "\n",
    "if M<800:\n",
    "    mc1=1.29 #for $M \\in (200,800)$\n",
    "elif (M>=800) and (M<1600):\n",
    "    mc1=1.57 #for $M \\in (800,1600)$\n",
    "elif M>=1600:\n",
    "    mc1=1.86 #for $M \\in (1600,3200)$\n",
    "\n",
    "for j in range(len(mi)):\n",
    "    if (mi[j][neopt]>mc1*mcx[0][neopt]) and (0 in sorted_patt[j][0]) and (sorted_patt[j][1][1]>sorted_patt[j][1][2]):\n",
    "        plt.plot(mi[j],'red',alpha=0.8)\n",
    "    else:\n",
    "        plt.plot(mi[j],'gray',alpha=0.3)\n",
    "\n",
    "\n",
    "plt.plot(mc1*mcx[0],'b--',alpha=0.5)\n",
    "\n",
    "plt.axvline(x=neopt, color='k')       \n",
    "\n",
    "plt.title('Marginal magnetization vs $\\epsilon$ (plotting codewords that overoccur w/ behavior in red)')\n",
    "plt.ylabel('$m(s_{\\mu}) \\propto$ probability of being a codeword')\n",
    "plt.xlabel('$\\epsilon$ inverse regularization [a.u.]')\n",
    "\n",
    "plt.show()"
   ]
  },
  {
   "cell_type": "code",
   "execution_count": 13,
   "metadata": {},
   "outputs": [
    {
     "name": "stdout",
     "output_type": "stream",
     "text": [
      "0.06545430644623867\n",
      "\n",
      " Codewords that overoccur w/ behavior, which are above threshold:\n",
      "((0, 9, 13), [0.16420223222434543, 95.083087594244, 36, 16.102409638554217])\n",
      "((0, 10, 13), [0.14417581411874605, 71.0012307904867, 43, 25.445783132530117])\n",
      "((0, 15, 18), [0.12298208884636364, 51.66139095502345, 39, 23.85542168674699])\n",
      "((0, 11, 14), [0.10789005351309527, 46.66878298503931, 49, 34.21686746987952])\n",
      "((0, 12, 18), [0.10736561026267775, 44.79205227700613, 41, 26.701807228915662])\n",
      "((0, 12, 14), [0.09450319768007628, 38.45619990394883, 56, 42.12951807228915])\n",
      "((0, 9, 13, 17), [0.079534217704374, 42.432088514161656, 19, 5.755479750326607])\n",
      "((0, 16, 19), [0.07931108555435255, 32.41134315167478, 34, 21.734939759036145])\n",
      "((0, 15), [0.07837741733949007, 24.13755020080321, 101, 88.0])\n",
      "((0, 18), [0.07670428589095074, 24.474774096385545, 80, 67.5])\n",
      "((0, 9, 12), [0.07270795824212455, 44.9761026751439, 30, 16.021084337349397])\n",
      "((0, 13, 15), [0.06711629870575644, 22.183849930131316, 46, 34.98795180722892])\n"
     ]
    }
   ],
   "source": [
    "threshold=mc1*mcx[0][neopt]\n",
    "print(threshold)\n",
    "print(\"\\n Codewords that overoccur w/ behavior, which are above threshold:\")\n",
    "for pp in codewords_over:#[:40]:\n",
    "    if pp[1][0]>threshold:\n",
    "        print(pp)"
   ]
  },
  {
   "cell_type": "code",
   "execution_count": 15,
   "metadata": {},
   "outputs": [
    {
     "name": "stdout",
     "output_type": "stream",
     "text": [
      "Highlighted codeword:  [8, 12, 16]\n"
     ]
    },
    {
     "data": {
      "image/png": "[encoded data removed]",
      "text/plain": [
       "<Figure size 960x720 with 1 Axes>"
      ]
     },
     "metadata": {
      "needs_background": "light"
     },
     "output_type": "display_data"
    }
   ],
   "source": [
    "#Highlighting codewords in ordered (by pitch value) scatter plot\n",
    "\n",
    "word=codewords_over[6][0][1:]#removing 1st component (binary behavior), and substracting 1\n",
    "word=[tt-1 for tt in word]\n",
    "print(\"Highlighted codeword: \",word)\n",
    "\n",
    "ind_pitch_high=sorted(range(len(pitch_data)),key=pitch_data.__getitem__)#, reverse=True\n",
    "\n",
    "ordered_spikes_data=[spikes_data[j] for j in ind_pitch_high]\n",
    "ordered_spikes_data2=[spikes for spikes in ordered_spikes_data]\n",
    "\n",
    "for j in ind_pitch_high:\n",
    "    if [ordered_spikes_data[j][i] for i in word]==[1]*len(word):\n",
    "        for tt in word:\n",
    "            ordered_spikes_data2[j][tt]+=1\n",
    "\n",
    "# make a color map of fixed colors\n",
    "cmap = colors.ListedColormap(['white', 'lightgray', 'red'])\n",
    "bounds=[-0.5,0.5,1.5,2.5]\n",
    "norm = colors.BoundaryNorm(bounds, cmap.N)\n",
    "plt.figure(figsize=(12, 9), dpi=80)\n",
    "\n",
    "# tell imshow about color map so that only set colors are used\n",
    "plt.imshow(ordered_spikes_data2, interpolation='nearest', origin='lower', cmap=cmap, norm=norm, aspect=0.1)\n",
    "plt.xlabel('time bins')\n",
    "plt.ylabel('Raster ordered in pitch')\n",
    "\n",
    "plt.show()"
   ]
  },
  {
   "cell_type": "markdown",
   "metadata": {},
   "source": [
    "### Exercise\n",
    "Redo the analysis binarizing pitch as 1 when it is below median, and obtain codewords that include the behavior (low pitch) and over occur.\n",
    "\n",
    "It is not neccessary to perform again the reshuffling, as the threshold (which depends only in individual frequencies) will not change."
   ]
  },
  {
   "cell_type": "code",
   "execution_count": null,
   "metadata": {},
   "outputs": [],
   "source": []
  }
 ],
 "metadata": {
  "kernelspec": {
   "display_name": "Python 3",
   "language": "python",
   "name": "python3"
  },
  "language_info": {
   "codemirror_mode": {
    "name": "ipython",
    "version": 3
   },
   "file_extension": ".py",
   "mimetype": "text/x-python",
   "name": "python",
   "nbconvert_exporter": "python",
   "pygments_lexer": "ipython3",
   "version": "3.8.5"
  }
 },
 "nbformat": 4,
 "nbformat_minor": 4
}
