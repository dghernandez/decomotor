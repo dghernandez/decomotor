{
 "cells": [
  {
   "cell_type": "markdown",
   "metadata": {},
   "source": [
    "# Examples with synthetic data\n",
    "0) A single interacting pattern (word).\n",
    "\n",
    "1) Few overlapping words.\n",
    "\n",
    "2) Several random interactions (optional).\n",
    "\n",
    "In this notebook, given a set of variables we will generate synthetic data from a distribution that presents different sets of interacting patterns, under different conditions (changing samples, intensity and sign of interactions, etc.).\n",
    "\n",
    "Make sure uBIAmodule.py is located in your working folder before importing."
   ]
  },
  {
   "cell_type": "code",
   "execution_count": 1,
   "metadata": {},
   "outputs": [],
   "source": [
    "from itertools import product, combinations\n",
    "import numpy as np\n",
    "import math\n",
    "import operator\n",
    "from matplotlib import pyplot as plt\n",
    "import functools\n",
    "def nCr(n,r):\n",
    "    f = math.factorial\n",
    "    return f(n) / f(r) / f(n-r)\n",
    "def list_powerset(lst):\n",
    "    return functools.reduce(lambda result, x: result + [subset + [x] for subset in result], lst, [[]])\n",
    "from collections import Counter\n",
    "import time\n",
    "from sklearn.utils import shuffle\n",
    "from heapq import nsmallest\n",
    "import uBIAmodule"
   ]
  },
  {
   "cell_type": "markdown",
   "metadata": {},
   "source": [
    "## Defining parameters of underlying probability distribution\n",
    "Data is generated from log-linear model (Amari, 2001):\n",
    "$$\\log p(x|\\theta) = \\sum_i^N \\theta_i x_i + \\sum_{ij}^N \\theta_{ij} x_i x_j + \\sum_{ijk}^N \\theta_{ijk} x_i x_j x_k +...= \\sum_{\\nu} \\theta_{\\nu} \\prod_{i\\in V_{\\nu}} x_i -\\log \\mathcal{Z}\\\\$$\n",
    "$$\\theta_i \\sim \\mathcal{N}(\\mu_1, \\sigma_1^2),\\, \\theta_{i_1... i_r} \\sim \\mathcal{N}(\\mu_J, \\sigma_J^2)$$"
   ]
  },
  {
   "cell_type": "markdown",
   "metadata": {},
   "source": [
    "## Setting parameters for probability distribution, and for uBIA"
   ]
  },
  {
   "cell_type": "code",
   "execution_count": 2,
   "metadata": {},
   "outputs": [
    {
     "name": "stdout",
     "output_type": "stream",
     "text": [
      "Parameters ready\n"
     ]
    }
   ],
   "source": [
    "# PARAMETERS TO TEST\n",
    "\n",
    "#number of samples for inference\n",
    "M=2000#800#400#1600  #---------------change number of samples<4000\n",
    "#intensity of interaction\n",
    "muJ=1.0#0.5#1.5  #---------------change intensity of interaction \n",
    "\n",
    "#Jp0=[(2,3,6)]   #--------------change word/s\n",
    "#Jint0=[-muJ]#[muJ]#--------------change sign +-\n",
    "Jp0=[(2,3,6),(1,2),(6,15,16,17)]# for this words change M from 800 to 2000\n",
    "Jint0=[muJ,-muJ,muJ]\n",
    "\n",
    "#type of distribution\n",
    "distJ_type=0\n",
    "    #type0: a predefined set of interactions Jp0 with intensity Jint0\n",
    "    #type1: two gauss for Js at +/- muJ\n",
    "    #type2: one gauss at 0\n",
    "\n",
    "# EXTRA PARAMETERS\n",
    "mu1=-0.7 #for matching firing rate\n",
    "p1i=np.exp(mu1)/(1.+np.exp(mu1))\n",
    "sig1=0.1\n",
    "sigJ=0.2#0.1\n",
    "\n",
    "#dimension of data\n",
    "T=18\n",
    "\n",
    "#density of interactions per dimension (each variable participates in ~ alfa int)\n",
    "alfa=2. \n",
    "#number of interactions of 2nd, 3rd and 4th order (total 3*Nj)\n",
    "Nj=int(round(alfa*T/9.))\n",
    "#number of steps to do path integral for magnetization\n",
    "n_e=20 \n",
    "#number of shufflings for significance test\n",
    "nmix=10\n",
    "#number of pattern in full Ising model, after filtering by field\n",
    "Nmax=1000\n",
    "#total samples for analysis vs M\n",
    "Mtotal=4000\n",
    "\n",
    "np.random.seed(0)\n",
    "\n",
    "print(\"Parameters ready\")"
   ]
  },
  {
   "cell_type": "markdown",
   "metadata": {},
   "source": [
    "## Generating the probability distribution with $2^T$ states\n",
    "(~1 min)"
   ]
  },
  {
   "cell_type": "code",
   "execution_count": 3,
   "metadata": {},
   "outputs": [
    {
     "name": "stdout",
     "output_type": "stream",
     "text": [
      "Available number of states:  262144\n",
      "Checking normalization:  0.9999999999999996\n",
      "Entropy of the distribution:  11.461843015703177\n",
      "\n",
      "List of interacting patterns:\n",
      "(2, 3, 6) 1.0\n",
      "(1, 2) -1.0\n",
      "(6, 15, 16, 17) 1.0\n"
     ]
    }
   ],
   "source": [
    "print(\"Available number of states: \",len(list(product(range(2), repeat=T))))\n",
    "\n",
    "dep2=list(combinations(range(T),2))\n",
    "dep3=list(combinations(range(T),3))\n",
    "dep4=list(combinations(range(T),4))\n",
    "J2=[dep2[i] for i in np.random.choice(range(int(nCr(T,2))), Nj, replace=False)]\n",
    "J3=[dep3[i] for i in np.random.choice(range(int(nCr(T,3))), Nj, replace=False)]\n",
    "J4=[dep4[i] for i in np.random.choice(range(int(nCr(T,4))), Nj, replace=False)]\n",
    "Jp=J2+J3+J4\n",
    "\n",
    "# Individual biases\n",
    "J1=np.random.normal(mu1, sig1, T)\n",
    "\n",
    "# Interactions values\n",
    "if distJ_type==2:\n",
    "    Jall=[np.random.normal(0., sigJ) for i in range(3*Nj)]\n",
    "elif distJ_type==1:\n",
    "    Jall=[np.random.normal(np.random.choice([-1,1])*muJ, sigJ) for i in range(3*Nj)]\n",
    "else: #distJ_type==0:#predefined interactions\n",
    "    Jp=Jp0\n",
    "    Jall=Jint0\n",
    "\n",
    "iteTlist=list(product(range(2), repeat=T))\n",
    "iteT=product(range(2), repeat=T)\n",
    "\n",
    "# Energies, probabilities for different patterns (~1min)\n",
    "Epatt=[np.dot(i,J1)+np.sum([Jall[j]*np.prod(np.array(i)[np.array(Jp[j])]) for j in range(len(Jall))]) for i in iteT]\n",
    "prob=[np.exp(Epatt[i]) for i in range(2**T)]\n",
    "Zpar=np.sum(prob)\n",
    "prob=[pp/Zpar for pp in prob]\n",
    "print(\"Checking normalization: \",np.sum(prob))\n",
    "print(\"Entropy of the distribution: \",-1*np.dot(prob,np.log(prob)))\n",
    "\n",
    "print(\"\\nList of interacting patterns:\")\n",
    "for i in range(len(Jall)):\n",
    "    print(Jp[i],Jall[i])"
   ]
  },
  {
   "cell_type": "markdown",
   "metadata": {},
   "source": [
    "## Generating samples from probability distribution"
   ]
  },
  {
   "cell_type": "code",
   "execution_count": 4,
   "metadata": {},
   "outputs": [
    {
     "name": "stdout",
     "output_type": "stream",
     "text": [
      "First five samples:\n",
      "(0, 1, 0, 0, 1, 0, 0, 0, 1, 0, 1, 1, 0, 0, 1, 0, 0, 0)\n",
      "(1, 0, 1, 1, 0, 1, 0, 1, 0, 0, 1, 0, 0, 0, 0, 0, 0, 0)\n",
      "(1, 0, 1, 0, 1, 1, 1, 1, 1, 0, 0, 0, 1, 0, 1, 1, 0, 0)\n",
      "(0, 0, 0, 0, 0, 0, 0, 0, 0, 0, 0, 1, 1, 1, 0, 0, 1, 0)\n",
      "(0, 1, 1, 1, 0, 1, 1, 0, 1, 1, 1, 0, 0, 0, 0, 0, 0, 0)\n"
     ]
    }
   ],
   "source": [
    "# generating samples from that probability distribution\n",
    "draw = np.random.choice(range(2**T),Mtotal, p=prob)\n",
    "patt=list(product(range(2), repeat=T))\n",
    "samples_total=[patt[i] for i in draw]\n",
    "samples=samples_total[:M]\n",
    "\n",
    "print(\"First five samples:\")\n",
    "for sami in samples[:5]:\n",
    "    print(sami)"
   ]
  },
  {
   "cell_type": "markdown",
   "metadata": {},
   "source": [
    "## Inferring codewords with uBIA\n",
    "As a first step we list all the patterns that occur in the samples (if $T$ is large, we need to be careful with this step).\n",
    "\n",
    "Secondly, we include in this list patterns which do not occur but could be a relevant pattern.\n",
    "\n",
    "Next, we calculate \"the fields\" of each pattern, checking how such patterns over or under occur in relation to our expectation (no interaction). The field gives the individual evidence that a pattern should be considered as a codeword. Here we select the Nmax patterns with higher fields.\n",
    "\n",
    "Because overlapping patterns or codewords try to explain the same correlations, we need a type of competition between them to determine which are the true patterns and which are by-products of the others. This competition is implemented through couplings $J_{\\mu\\nu}$.\n",
    "\n",
    "A key parameter of uBIA is epsilon, the inverse regularization. Epsilon regulates how far we move away from our \"no-interaction null model\". Epsilon can not be too large as some of the approximation of the method are not longer valid, but if it is too small we do not allow the correlations in the samples to matter.\n",
    "\n",
    "Finally, we present a list of words ordered by their marginal magnetizations, a quantity directly proportional to their probability of being a codeword. These results are presented as:\n",
    "\n",
    "(word, marginal magnetization, individual field, frequency in samples, expected frecuency from null model)\n",
    "\n",
    "The list ordered by marginal magnetization is presented at the largest epsilon allowed by our approximations, but you can checked how the list changes at other levels ($ne_{test} \\in\\{1,2,..,20\\}$)."
   ]
  },
  {
   "cell_type": "code",
   "execution_count": 5,
   "metadata": {},
   "outputs": [
    {
     "name": "stdout",
     "output_type": "stream",
     "text": [
      "Number of candidate words:  151993\n",
      "Largest epsilon allowed by our approximations: 12 *1/(20M)\n",
      "\n",
      " Interactions from probability:\n",
      "(2, 3, 6) 1.0\n",
      "(1, 2) -1.0\n",
      "(6, 15, 16, 17) 1.0\n",
      "\n",
      " Sorted by marginal magnetization at e*:\n",
      "((1, 2), [0.4663969613244278, 1779.0557730880005, 121, 206.448])\n",
      "((2, 3, 6), [0.3014921579337582, 1661.7317090242193, 201, 118.78892800000001])\n",
      "((2, 6), [0.09206021371403954, 826.4252657920002, 357, 297.344])\n",
      "((6, 15, 16, 17), [0.07495896158706798, 356.74304814400455, 72, 33.787580903999995])\n",
      "((1, 2, 5), [0.07423062685193502, 266.81867709544974, 42, 75.766416])\n",
      "((2, 3, 6, 17), [0.07309238343742884, 406.01080336081134, 84, 43.179775328000005])\n",
      "((1, 2, 4), [0.0716992752293167, 256.01145851629593, 40, 73.082592])\n",
      "((1, 2, 12), [0.06619564385513556, 246.06496943812402, 46, 78.553464])\n",
      "((1, 2, 13), [0.06402565548450449, 245.43984829644603, 38, 70.39876800000002])\n",
      "((1, 2, 17), [0.06389662061614726, 222.87311005210705, 44, 75.04384800000001])\n",
      "((1, 2, 11), [0.0633731833815008, 229.49616781671818, 33, 64.308552])\n",
      "((2, 3, 6, 15), [0.06305445901221343, 381.83464721183987, 84, 44.367664608000005])\n",
      "\n",
      " Sorted by field (individual evidence of words):\n",
      "((1, 2), [1779.0557730880005, 121, 206.448])\n",
      "((2, 3, 6), [1661.7317090242193, 201, 118.78892800000001])\n",
      "((2, 6), [826.4252657920002, 357, 297.344])\n",
      "((3, 6), [722.0480612019986, 379, 322.79600000000005])\n",
      "((3, 6, 16), [429.6195127018663, 142, 99.42116800000001])\n",
      "((2, 3, 6, 17), [406.01080336081134, 84, 43.179775328000005])\n",
      "((2, 3, 6, 15), [381.83464721183987, 84, 44.367664608000005])\n",
      "((6, 15, 16, 17), [356.74304814400455, 72, 33.787580903999995])\n",
      "((2, 6, 15), [352.897391012332, 150, 111.057984])\n",
      "((2, 3, 6, 16), [304.54090095341746, 72, 36.58698982400001])\n",
      "((6, 15, 16), [302.73023869566595, 129, 92.950704])\n",
      "((2, 3, 4, 6), [295.061467108815, 77, 42.051280512000005])\n",
      "\n",
      " Sorted by marginal magnetization at epsilon= 5 *1/(20M):\n",
      "((1, 2), [0.21420153439546155, 1779.0557730880005, 121, 206.448])\n",
      "((2, 3, 6), [0.17340004741599135, 1661.7317090242193, 201, 118.78892800000001])\n",
      "((2, 6), [0.07614170153499845, 826.4252657920002, 357, 297.344])\n",
      "((3, 6), [0.058185919024885326, 722.0480612019986, 379, 322.79600000000005])\n",
      "((2, 3, 6, 17), [0.04232870928956173, 406.01080336081134, 84, 43.179775328000005])\n",
      "((3, 6, 16), [0.03993886751072972, 429.6195127018663, 142, 99.42116800000001])\n",
      "((6, 15, 16, 17), [0.039040273356330264, 356.74304814400455, 72, 33.787580903999995])\n",
      "((2, 3, 6, 15), [0.03882103537603093, 381.83464721183987, 84, 44.367664608000005])\n",
      "((2, 6, 15), [0.032753016050266356, 352.897391012332, 150, 111.057984])\n",
      "((1, 2, 5), [0.032466356563783286, 266.81867709544974, 42, 75.766416])\n",
      "((1, 2, 4), [0.03123085859857436, 256.01145851629593, 40, 73.082592])\n",
      "((2, 3, 6, 16), [0.03105116163668021, 304.54090095341746, 72, 36.58698982400001])\n",
      "\n",
      "--- 21.237064838409424 seconds ---\n"
     ]
    }
   ],
   "source": [
    "hcutoff=0.05 #to include in the list of candidate words patterns that do not occur be could be relevant.\n",
    "epsilon_tylor_limit=0.5 #this should be <1. It regulates the relation between effective field (coming from couplings) vs individual fields\n",
    "\n",
    "M=len(samples) #number of samples\n",
    "pi=np.sum(samples,axis=0)\n",
    "pi=[1.*i/M for i in pi] #empirical individual probabilities\n",
    "\n",
    "start_time = time.time()\n",
    "\n",
    "# making a list of possible candidate codewords\n",
    "dicset=uBIAmodule.extract_patt(samples)\n",
    "print(\"Number of candidate words: \",len(dicset))\n",
    "\n",
    "# Calculating \"the fields\" of each pattern, and selecting the Nmax patterns with higher fields.\n",
    "sorted_patt=uBIAmodule.magn_field(dicset,M,pi)\n",
    "h0=[sorted_patt[i][1][0] for i in range(Nmax)]\n",
    "#print(len(sorted_patt))\n",
    "\n",
    "# Calculating couplings for competition between candidate words\n",
    "Jvw=uBIAmodule.couplings(sorted_patt, M, pi, Nmax)\n",
    "\n",
    "results=uBIAmodule.marg_magn_h1ef(h0, Jvw, M)\n",
    "mi=results[0]\n",
    "h1ef=results[1]\n",
    "\n",
    "neopt=uBIAmodule.level_inverse_reg(h0,h1ef,n_e,epsilon_tylor_limit)\n",
    "print(\"Largest epsilon allowed by our approximations:\",neopt,\"*1/(20M)\")\n",
    "\n",
    "mm_sorted_patt=uBIAmodule.marg_magn_sorted(sorted_patt,mi,neopt)\n",
    "\n",
    "print(\"\\n Interactions from probability:\")\n",
    "for i in range(len(Jall)):\n",
    "    print(Jp[i],Jall[i])\n",
    "\n",
    "print(\"\\n Sorted by marginal magnetization at e*:\")\n",
    "for pp in mm_sorted_patt[:12]:\n",
    "    print(pp)\n",
    "\n",
    "print(\"\\n Sorted by field (individual evidence of words):\")\n",
    "for pp in sorted_patt[:12]:\n",
    "    print(pp)\n",
    "\n",
    "netest=5\n",
    "mm_sorted_patt20=uBIAmodule.marg_magn_sorted(sorted_patt,mi,netest)#n_e<20\n",
    "print(\"\\n Sorted by marginal magnetization at epsilon=\",netest,\"*1/(20M):\")\n",
    "for pp in mm_sorted_patt20[:12]:\n",
    "    print(pp)\n",
    "\n",
    "print(\"\\n--- %s seconds ---\" % (time.time() - start_time))#with T=18 ->16s"
   ]
  },
  {
   "cell_type": "markdown",
   "metadata": {},
   "source": [
    "## Some internal checks\n",
    "Distribution of couplings\n",
    "\n",
    "Negative couplings"
   ]
  },
  {
   "cell_type": "code",
   "execution_count": 6,
   "metadata": {},
   "outputs": [
    {
     "name": "stdout",
     "output_type": "stream",
     "text": [
      "33760.965194117634\n",
      "-61357.339406076615\n",
      "784348\n"
     ]
    },
    {
     "data": {
      "image/png": "[encoded data removed]",
      "text/plain": [
       "<Figure size 432x288 with 1 Axes>"
      ]
     },
     "metadata": {
      "needs_background": "light"
     },
     "output_type": "display_data"
    }
   ],
   "source": [
    "dataJ=Jvw.flatten()\n",
    "print(max(dataJ))\n",
    "print(min(dataJ))\n",
    "print(np.count_nonzero(dataJ))\n",
    "\n",
    "\n",
    "bins = np.linspace(math.ceil(min(dataJ)), \n",
    "                   math.floor(max(dataJ)),\n",
    "                   100)\n",
    "plt.yscale('log')#, nonpositive='clip')\n",
    "plt.xlim([min(dataJ)-5, max(dataJ)+5])\n",
    "plt.hist(dataJ, bins=bins, alpha=0.5)\n",
    "plt.title('Distribution of interaction values Jvw')\n",
    "plt.xlabel('Jvw')\n",
    "plt.ylabel('count')\n",
    "\n",
    "plt.show()"
   ]
  },
  {
   "cell_type": "code",
   "execution_count": 7,
   "metadata": {},
   "outputs": [
    {
     "name": "stdout",
     "output_type": "stream",
     "text": [
      "[-61357.339406076615, -61357.339406076615, -56915.748540567685, -56915.748540567685, -36810.19316143317, -36810.19316143317]\n",
      "[[ 1  2]\n",
      " [ 1  3]\n",
      " [ 1 15]\n",
      " [ 2  1]\n",
      " [ 3  1]\n",
      " [15  1]]\n",
      "((2, 3, 6), [1661.7317090242193, 201, 118.78892800000001]) ((2, 6), [826.4252657920002, 357, 297.344])\n",
      "((2, 3, 6), [1661.7317090242193, 201, 118.78892800000001]) ((3, 6), [722.0480612019986, 379, 322.79600000000005])\n",
      "((2, 3, 6), [1661.7317090242193, 201, 118.78892800000001]) ((2, 3), [260.72310812799924, 330, 294.03200000000004])\n",
      "((2, 6), [826.4252657920002, 357, 297.344]) ((2, 3, 6), [1661.7317090242193, 201, 118.78892800000001])\n",
      "((3, 6), [722.0480612019986, 379, 322.79600000000005]) ((2, 3, 6), [1661.7317090242193, 201, 118.78892800000001])\n",
      "((2, 3), [260.72310812799924, 330, 294.03200000000004]) ((2, 3, 6), [1661.7317090242193, 201, 118.78892800000001])\n",
      "-61357.339406076615\n",
      "-56915.748540567685\n"
     ]
    }
   ],
   "source": [
    "Jneg=nsmallest(6, dataJ)\n",
    "print(Jneg)\n",
    "\n",
    "indexJneg=np.argwhere(Jvw<=Jneg[-1])\n",
    "print(indexJneg)\n",
    "# for pp in sorted_patt[:8]:\n",
    "#     print(pp)\n",
    "for iJ in indexJneg:\n",
    "    print(sorted_patt[iJ[0]],sorted_patt[iJ[1]])\n",
    "\n",
    "print(Jvw[indexJneg[0][0]][indexJneg[0][1]])\n",
    "print(Jvw[indexJneg[1][0]][indexJneg[1][1]])"
   ]
  },
  {
   "cell_type": "markdown",
   "metadata": {},
   "source": [
    "## Plotting marginal magnetization (proportional to probability of being a codeword) for patterns as a function  of inverse regularization\n",
    "True patterns in red"
   ]
  },
  {
   "cell_type": "code",
   "execution_count": 8,
   "metadata": {},
   "outputs": [
    {
     "name": "stdout",
     "output_type": "stream",
     "text": [
      "[1]\n",
      "[0]\n",
      "[7]\n",
      "[1, 0, 7]\n"
     ]
    }
   ],
   "source": [
    "def find_indices(lst, condition):\n",
    "    return [i for i, elem in enumerate(lst) if condition(elem)]\n",
    "\n",
    "indtrue=[]\n",
    "\n",
    "for jp in Jp:\n",
    "    ind=find_indices(sorted_patt, lambda e: e[0]== jp)\n",
    "    print(ind)\n",
    "    if ind!=[]:\n",
    "        indtrue.append(ind[0])\n",
    "#        plt.plot(mi[ind[0]])#,'bs')\n",
    "\n",
    "#plt.show()\n",
    "print(indtrue)"
   ]
  },
  {
   "cell_type": "code",
   "execution_count": 9,
   "metadata": {},
   "outputs": [
    {
     "data": {
      "image/png": "[encoded data removed]",
      "text/plain": [
       "<Figure size 432x288 with 1 Axes>"
      ]
     },
     "metadata": {
      "needs_background": "light"
     },
     "output_type": "display_data"
    }
   ],
   "source": [
    "for j in range(len(mi)):\n",
    "    if j in indtrue:\n",
    "        plt.plot(mi[j],'red',alpha=0.8)\n",
    "    else:\n",
    "        plt.plot(mi[j],'gray',alpha=0.3)\n",
    "        \n",
    "plt.title('Marginal magnetization vs $\\epsilon$ (plotting true patterns in red)')\n",
    "plt.ylabel('$m(s_{\\mu}) \\propto$ probability of being a codeword')\n",
    "plt.xlabel('$\\epsilon$ inverse regularization [a.u.]')\n",
    "\n",
    "plt.show()"
   ]
  },
  {
   "cell_type": "markdown",
   "metadata": {},
   "source": [
    "## Significance level\n",
    "\n",
    "Through reshuffling of the columns of our original matrix (that is, keeping marginal probabilities but deleting interactions), we can obtain how large the marginal magnetization gets when there are no interactions. Namely, the positive values of marginal magnetizations are due to finite sampling.\n",
    "\n",
    "\n",
    "(Slowest part, 2-3 mins for T~18)\n",
    "\n",
    "mc[x_,m1_]:=m1 x^(-0.23)Exp[-0.015 (Log[x]^2)]\n",
    "\n",
    "mc[n_false, m1= magnetization 1st]= m1 f(nf) (see sacaling between magn and n_false in mlevel_nf.nb)\n",
    "\n",
    "mc[0.3,1]=1.29 for $M \\in (200,800)$\n",
    "\n",
    "mc[0.1,1]=1.57 for $M \\in (800,1600)$\n",
    "\n",
    "mc[0.03,1]=1.86 for $M \\in (1600,3200)$"
   ]
  },
  {
   "cell_type": "code",
   "execution_count": 10,
   "metadata": {},
   "outputs": [
    {
     "name": "stdout",
     "output_type": "stream",
     "text": [
      "0 --- 19.21 seconds ---\n",
      "1 --- 39.78 seconds ---\n",
      "2 --- 60.64 seconds ---\n",
      "3 --- 78.37 seconds ---\n",
      "4 --- 96.90 seconds ---\n",
      "5 --- 115.32 seconds ---\n",
      "6 --- 133.58 seconds ---\n",
      "7 --- 152.32 seconds ---\n",
      "8 --- 171.11 seconds ---\n",
      "9 --- 189.79 seconds ---\n",
      "[0.         0.00405679 0.00798069 0.01177138 0.01543313 0.01898849\n",
      " 0.02242234 0.02573801 0.02893684 0.0320462  0.03512093 0.03811523\n",
      " 0.04110305 0.04426624 0.04738863 0.05063908 0.0538714  0.057085\n",
      " 0.06027972 0.06345539 0.06661187]\n"
     ]
    }
   ],
   "source": [
    "start_time = time.time()\n",
    "\n",
    "mcx=np.zeros((10,n_e+1)) #ten largest values of marg. magnetizations for codewords in shuffled data (for each level of ee)\n",
    "mclowx=np.zeros((10,n_e+1))\n",
    "\n",
    "for nn in range(nmix):#nmix\n",
    "\n",
    "    #shuffling columns of data (keeping the firing rate fixed)\n",
    "    tsam=np.transpose(samples)\n",
    "    tsam_shuf=[shuffle(ti) for ti in tsam]\n",
    "    sam_shuf=np.transpose(tsam_shuf)\n",
    "\n",
    "    dicset_s=uBIAmodule.extract_patt(sam_shuf)\n",
    "    #print(len(dicset_s))\n",
    "\n",
    "    sorted_patt_s=uBIAmodule.magn_field(dicset_s,M,pi)\n",
    "    Nmax_s=min(Nmax,len(sorted_patt_s))\n",
    "    h0_s=[sorted_patt_s[i][1][0] for i in range(Nmax)]\n",
    "    #print(len(sorted_patt_s))\n",
    "\n",
    "    Jvw_s=uBIAmodule.couplings(sorted_patt_s, M, pi,Nmax_s)\n",
    "\n",
    "    results_s=uBIAmodule.marg_magn_h1ef(h0_s, Jvw_s, M)\n",
    "    mi_s=results_s[0]\n",
    "    h1ef_s=results_s[1]\n",
    "    \n",
    "    for kk in range(n_e+1):\n",
    "        #how strong can the marginal magnetizetion be for every level of \\epsilon?\n",
    "        mcx[:,kk]+=sorted(mi_s[:,kk],reverse=True)[:10]\n",
    "        mclowx[:,kk]+=sorted(mi_s[:,kk])[:10]\n",
    "    \n",
    "    print(nn,\"--- %.2f seconds ---\" % (time.time() - start_time))\n",
    "\n",
    "mcx=(1./nmix)*mcx\n",
    "mclowx=(1./nmix)*mclowx\n",
    "\n",
    "print(mcx[0])\n",
    "#print(mclowx[0])"
   ]
  },
  {
   "cell_type": "code",
   "execution_count": 13,
   "metadata": {},
   "outputs": [
    {
     "data": {
      "image/png": "[encoded data removed]",
      "text/plain": [
       "<Figure size 432x288 with 1 Axes>"
      ]
     },
     "metadata": {
      "needs_background": "light"
     },
     "output_type": "display_data"
    }
   ],
   "source": [
    "if M<800:\n",
    "    mc1=1.29 #for $M \\in (200,800)$\n",
    "elif (M>=800) and (M<1600):\n",
    "    mc1=1.57 #for $M \\in (800,1600)$\n",
    "elif M>=1600:\n",
    "    mc1=1.86 #for $M \\in (1600,3200)$\n",
    "\n",
    "for j in range(len(mi)):\n",
    "    if j in indtrue:\n",
    "        plt.plot(mi[j],'red',alpha=0.8)\n",
    "    else:\n",
    "        plt.plot(mi[j],'gray',alpha=0.3)\n",
    "\n",
    "plt.plot(mc1*mcx[0],'b--',alpha=0.5)\n",
    "\n",
    "plt.axvline(x=neopt, color='k')       \n",
    "\n",
    "plt.title('Marginal magnetization vs $\\epsilon$ (plotting true patterns in red)')\n",
    "plt.ylabel('$m(s_{\\mu}) \\propto$ probability of being a codeword')\n",
    "plt.xlabel('$\\epsilon$ inverse regularization [a.u.]')\n",
    "\n",
    "plt.show()"
   ]
  },
  {
   "cell_type": "markdown",
   "metadata": {},
   "source": [
    "## Finally let's have our list of patterns above our threshold"
   ]
  },
  {
   "cell_type": "code",
   "execution_count": 14,
   "metadata": {},
   "outputs": [
    {
     "name": "stdout",
     "output_type": "stream",
     "text": [
      "3\n",
      "\n",
      "Codewords (above threshold in \\epsilon*): \n",
      "((1, 2), [0.4663969613244278, 1779.0557730880005, 121, 206.448])\n",
      "((2, 3, 6), [0.3014921579337582, 1661.7317090242193, 201, 118.78892800000001])\n",
      "((2, 6), [0.09206021371403954, 826.4252657920002, 357, 297.344])\n",
      "\n",
      "Words ordered by probability of being a codeword: \n",
      "((1, 2), [0.4663969613244278, 1779.0557730880005, 121, 206.448])\n",
      "((2, 3, 6), [0.3014921579337582, 1661.7317090242193, 201, 118.78892800000001])\n",
      "((2, 6), [0.09206021371403954, 826.4252657920002, 357, 297.344])\n",
      "((6, 15, 16, 17), [0.07495896158706798, 356.74304814400455, 72, 33.787580903999995])\n",
      "((1, 2, 5), [0.07423062685193502, 266.81867709544974, 42, 75.766416])\n"
     ]
    }
   ],
   "source": [
    "codewords=[patt for patt in mm_sorted_patt if patt[1][0]>mc1*mcx[0][neopt]]\n",
    "\n",
    "lencode=len(codewords)\n",
    "print(lencode)\n",
    "\n",
    "print(\"\\nCodewords (above threshold in \\epsilon*): \")\n",
    "for pp in codewords[:min(lencode,5)]:\n",
    "    print(pp)\n",
    "    \n",
    "print(\"\\nWords ordered by probability of being a codeword: \")\n",
    "for pp in mm_sorted_patt[:5]:\n",
    "    print(pp)"
   ]
  },
  {
   "cell_type": "code",
   "execution_count": null,
   "metadata": {},
   "outputs": [],
   "source": []
  }
 ],
 "metadata": {
  "kernelspec": {
   "display_name": "Python 3",
   "language": "python",
   "name": "python3"
  },
  "language_info": {
   "codemirror_mode": {
    "name": "ipython",
    "version": 3
   },
   "file_extension": ".py",
   "mimetype": "text/x-python",
   "name": "python",
   "nbconvert_exporter": "python",
   "pygments_lexer": "ipython3",
   "version": "3.8.5"
  }
 },
 "nbformat": 4,
 "nbformat_minor": 4
}
